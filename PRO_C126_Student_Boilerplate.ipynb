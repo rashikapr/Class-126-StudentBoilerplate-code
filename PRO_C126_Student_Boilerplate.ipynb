{
  "nbformat": 4,
  "nbformat_minor": 0,
  "metadata": {
    "colab": {
      "provenance": [],
      "include_colab_link": true
    },
    "kernelspec": {
      "name": "python3",
      "display_name": "Python 3"
    },
    "language_info": {
      "name": "python"
    }
  },
  "cells": [
    {
      "cell_type": "markdown",
      "metadata": {
        "id": "view-in-github",
        "colab_type": "text"
      },
      "source": [
        "<a href=\"https://colab.research.google.com/github/rashikapr/Class-126-StudentBoilerplate-code/blob/main/PRO_C126_Student_Boilerplate.ipynb\" target=\"_parent\"><img src=\"https://colab.research.google.com/assets/colab-badge.svg\" alt=\"Open In Colab\"/></a>"
      ]
    },
    {
      "cell_type": "markdown",
      "source": [
        "## RL Problem to Solve:\n",
        "\n",
        "The **machine/bot** needs to find a way out to reach the **Goal**(Room Number 5).The machine will start from any room randomly.\n",
        "\n",
        "<img src=\"https://s3-whjr-curriculum-uploads.whjr.online/f39c3b14-04c8-4171-8bd4-7693efcdb792.jpg\" width= 400>"
      ],
      "metadata": {
        "id": "AIa7j8yHu_eT"
      }
    },
    {
      "cell_type": "markdown",
      "source": [
        "## RL Components:\n",
        "\n",
        "* Environment\n",
        "\n",
        "<img src=\"https://s3-whjr-curriculum-uploads.whjr.online/af5a1d77-041a-4bba-be4e-ca26aea97771.png\" width= 300>\n",
        "\n",
        "* Agent\n",
        "\n",
        "<img src=\"https://s3-whjr-curriculum-uploads.whjr.online/fda2e793-0302-420c-981b-dbf32ecb1d12.png\" width= 200>\n",
        "\n",
        "* States\n",
        "\n",
        "> The agent/machine can be in any of the 6 rooms( 5 rooms + 1 goal room) of the\n",
        "lobby. Hence there **6 possible states**.\n",
        "\n",
        "> <img src=\"https://s3-whjr-curriculum-uploads.whjr.online/e0f568a6-77af-4b52-873e-8949f388cbb6.jpg\" width= 50>\n",
        "\n",
        "\n",
        "* Actions\n",
        "\n",
        "> The agent/machine can choose to move to any of the 6 rooms( 5 rooms + 1 goal room) of the lobby. Hence there also **6 possible actions**.\n",
        "\n",
        "\n",
        "> <img src=\"https://s3-whjr-curriculum-uploads.whjr.online/0e684ce5-6454-47bd-bb2d-d3668f7a0370.jpg\" width= 300>\n",
        "\n",
        "\n",
        "* Rewards\n",
        "\n",
        "> **Possible Rewards: -1, 0, 100**\n",
        "\n",
        "\n",
        "> <img src=\"https://s3-whjr-curriculum-uploads.whjr.online/7f9acae9-73be-41ab-8686-0cd74f4840ad.jpg\" width= 300>\n",
        "\n",
        "\n",
        "* **Can’t Move**:If there no direct way from one room\n",
        "to another, then the reward is -1.\n",
        "\n",
        "* **Move**: If the machine can move from the current\n",
        "room(state) to the next room(action)\n",
        "then the reward is 0.\n",
        "\n",
        "* **Goal**: If the machine is at/reached the goal,\n",
        "then the reward is 100\n",
        "\n",
        "\n"
      ],
      "metadata": {
        "id": "1kO4h0vHggqj"
      }
    },
    {
      "cell_type": "markdown",
      "source": [
        "## Import Modules"
      ],
      "metadata": {
        "id": "yL-YVGFd20r0"
      }
    },
    {
      "cell_type": "code",
      "execution_count": 1,
      "metadata": {
        "id": "WKZ1AbHZowja"
      },
      "outputs": [],
      "source": [
        "import numpy as np\n",
        "import random"
      ]
    },
    {
      "cell_type": "markdown",
      "source": [
        "## Reward Martix\n",
        "\n",
        "> <img src=\"https://s3-whjr-curriculum-uploads.whjr.online/46dc27ea-cc8c-4b7b-959f-88406531a3c3.jpg\" width= 400>\n",
        "\n",
        "* **Can’t Move**:If there no direct way from one room\n",
        "to another, then the reward is -1.\n",
        "\n",
        "* **Move**: If the machine can move from the current\n",
        "room(state) to the next room(action)\n",
        "then the reward is 0.\n",
        "\n",
        "* **Goal**: If the machine is at/reached the goal,\n",
        "then the reward is 100.\n",
        "\n",
        "> <img src=\"https://s3-whjr-curriculum-uploads.whjr.online/3183f05b-f22f-46b6-96b4-00043c942250.jpg\" width= 400>\n"
      ],
      "metadata": {
        "id": "OFfnElA8dplz"
      }
    },
    {
      "cell_type": "code",
      "source": [
        "rewards = np.array([\n",
        "    [-1, -1, -1, -1,  0,  -1],\n",
        "    [-1, -1, -1,  0, -1, 100],\n",
        "    [-1, -1, -1 , 0 ,-1 , -1],\n",
        "    [-1,  0,  0 ,-1  ,-1 , -1],\n",
        "    [0, -1, -1 , -1 ,-1 ,100],\n",
        "    [-1, -1, -1, -1,  0, 100]\n",
        "])"
      ],
      "metadata": {
        "id": "6RjBxy7yo4fg"
      },
      "execution_count": 2,
      "outputs": []
    },
    {
      "cell_type": "markdown",
      "source": [
        "## Initial State"
      ],
      "metadata": {
        "id": "M5A8MWC5u5Au"
      }
    },
    {
      "cell_type": "code",
      "source": [
        "def set_initial_state():\n",
        "    return np.random.randint(0, 6)"
      ],
      "metadata": {
        "id": "S-Qe6w--o641"
      },
      "execution_count": 3,
      "outputs": []
    },
    {
      "cell_type": "markdown",
      "source": [
        "## Get Action"
      ],
      "metadata": {
        "id": "ioQb7xuiuvLQ"
      }
    },
    {
      "cell_type": "code",
      "source": [
        "def get_action(current_state, reward_matrix):\n",
        "    available_action = []\n",
        "    print(\"reward_matrix\",\"\\n\",reward_matrix)\n",
        "    for action in enumerate(reward_matrix[current_state]):\n",
        "        if action[1]!= -1:\n",
        "            available_action.append(action[0])\n",
        "    choose_action = random.choice(available_action)\n",
        "    print(\"Current State\",current_state)\n",
        "    print(\"Random choice of Action from\",available_action,\"is\", choose_action)\n",
        "    return choose_action"
      ],
      "metadata": {
        "id": "3D9SYz0CpBkk"
      },
      "execution_count": 4,
      "outputs": []
    },
    {
      "cell_type": "markdown",
      "source": [
        "##Q matrix\n",
        "**Q-learning** is a reinforcement learning algorithm. Given the current state, it helps to find the best action to be taken by the agent.\n",
        "Q stands for Quality in Q-learning. Quality represents how useful action is in gaining a reward.\n",
        "To perform Q-learning, we use **Q-matrix**. It is also in the form of states as rows and actions as columns. Initially, all the elements of the Q- matrix are zeroes."
      ],
      "metadata": {
        "id": "uoe8PVRcE63o"
      }
    },
    {
      "cell_type": "code",
      "source": [
        "q_matrix = np.zeros([6,6])\n",
        "print(q_matrix)"
      ],
      "metadata": {
        "colab": {
          "base_uri": "https://localhost:8080/"
        },
        "id": "0vpQ90tdnCEG",
        "outputId": "c339b214-d652-4008-c017-7d73e3512024"
      },
      "execution_count": 5,
      "outputs": [
        {
          "output_type": "stream",
          "name": "stdout",
          "text": [
            "[[0. 0. 0. 0. 0. 0.]\n",
            " [0. 0. 0. 0. 0. 0.]\n",
            " [0. 0. 0. 0. 0. 0.]\n",
            " [0. 0. 0. 0. 0. 0.]\n",
            " [0. 0. 0. 0. 0. 0.]\n",
            " [0. 0. 0. 0. 0. 0.]]\n"
          ]
        }
      ]
    },
    {
      "cell_type": "markdown",
      "source": [
        "## Take Action"
      ],
      "metadata": {
        "id": "qHy-O7xfu0Qo"
      }
    },
    {
      "cell_type": "code",
      "source": [
        "def take_action(current_state, reward_matrix, gamma):\n",
        "\n",
        "    action = get_action(current_state, reward_matrix)\n",
        "\n",
        "    #Current State, Action Reward\n",
        "    current_sa_reward = reward_matrix[current_state, action]\n",
        "\n",
        "    # New State, Action Reward\n",
        "    q_sa_value = max(q_matrix[action,])\n",
        "\n",
        "    # Current Q state\n",
        "    q_current_state = current_sa_reward + (gamma * q_sa_value)\n",
        "\n",
        "    # Update Q matrix\n",
        "    q_matrix[current_state,action] = q_current_state\n",
        "\n",
        "    print(\"q_matrix \",\"\\n\", q_matrix)\n",
        "\n",
        "    new_state = action\n",
        "\n",
        "    print(\"********************************************************************\")\n",
        "\n",
        "    if new_state == 5:\n",
        "        print(\"Reached Goal!\")\n",
        "    else:\n",
        "        print(f\"Old State:{current_state} New State: {new_state}\")\n",
        "\n",
        "    return new_state"
      ],
      "metadata": {
        "id": "Hi4c2o6fdhlk"
      },
      "execution_count": 6,
      "outputs": []
    },
    {
      "cell_type": "markdown",
      "source": [
        "## Train RL Model\n",
        "\n",
        "Aim is to make the agent explore different states and reach the goal, the rewards are updated after each trial.\n",
        "\n",
        "Agent completes an **episode** when it starts from initial state and reaches the goal.\n",
        "\n",
        "For each action, Q-matrix is updated. This will act as the trained environment for the agent. Using the updated Q-matrix the agent can look for maximum reward and finds optimal path for any state.\n",
        "\n",
        "Refer the link below to check how the episodes are run and Q-matrix is updated.\n",
        "[Run Multiple Episodes](https://whitehatjrcontent.s3.ap-south-1.amazonaws.com/Teacher-Resources/COCOS_Applets/POC/Coding/SimpleQ-RL/final/index.html)"
      ],
      "metadata": {
        "id": "Nf3eCOOjurEt"
      }
    },
    {
      "cell_type": "code",
      "source": [
        "def run_episode(initial_state,reward_matrix, gamma):\n",
        "\n",
        "    new_state =  take_action(initial_state, reward_matrix, gamma)\n",
        "\n",
        "    while True:\n",
        "        if new_state == 5:\n",
        "            break\n",
        "        else:\n",
        "            new_state =  take_action(new_state, reward_matrix, gamma)\n",
        "\n",
        ""
      ],
      "metadata": {
        "id": "8wbGdp6Stwp0"
      },
      "execution_count": 7,
      "outputs": []
    },
    {
      "cell_type": "code",
      "source": [
        "def train(episodes, reward_matrix, gamma):\n",
        "    print(\"Training...\")\n",
        "\n",
        "    for episode in range(episodes):\n",
        "        print(\"Starting Episode: \", episode)\n",
        "\n",
        "        # Set initial State\n",
        "        initial_state = set_initial_state()\n",
        "        print(\"Initial State:\", initial_state)\n",
        "\n",
        "        if initial_state!=5:\n",
        "          # Initalise Episode(Get Action, Take Action to get new state)\n",
        "          run_episode(initial_state, reward_matrix, gamma)\n",
        "\n",
        "        print(\"Ending Episode: \", episode)\n",
        "\n",
        "    print(\"Training completed!\")\n",
        "\n",
        "    return q_matrix\n",
        "\n",
        "\n",
        "    # ADD CODE HERE ##\n",
        "\n"
      ],
      "metadata": {
        "id": "gcC9WlO6tyym"
      },
      "execution_count": 8,
      "outputs": []
    },
    {
      "cell_type": "code",
      "source": [
        "gamma = 0.8\n",
        "\n",
        "# Get Q table\n",
        "q_table = train(2, rewards, gamma)\n",
        "\n",
        "print(\"Final Q Table: \", q_table)"
      ],
      "metadata": {
        "id": "HeET8Qhnt1WR",
        "colab": {
          "base_uri": "https://localhost:8080/"
        },
        "outputId": "7aa434e1-e8dc-46b0-8101-cd57bdd4aa88"
      },
      "execution_count": 9,
      "outputs": [
        {
          "output_type": "stream",
          "name": "stdout",
          "text": [
            "Training...\n",
            "Starting Episode:  0\n",
            "Initial State: 4\n",
            "reward_matrix \n",
            " [[ -1  -1  -1  -1   0  -1]\n",
            " [ -1  -1  -1   0  -1 100]\n",
            " [ -1  -1  -1   0  -1  -1]\n",
            " [ -1   0   0  -1  -1  -1]\n",
            " [  0  -1  -1  -1  -1 100]\n",
            " [ -1  -1  -1  -1   0 100]]\n",
            "Current State 4\n",
            "Random choice of Action from [0, 5] is 0\n",
            "q_matrix  \n",
            " [[0. 0. 0. 0. 0. 0.]\n",
            " [0. 0. 0. 0. 0. 0.]\n",
            " [0. 0. 0. 0. 0. 0.]\n",
            " [0. 0. 0. 0. 0. 0.]\n",
            " [0. 0. 0. 0. 0. 0.]\n",
            " [0. 0. 0. 0. 0. 0.]]\n",
            "********************************************************************\n",
            "Old State:4 New State: 0\n",
            "reward_matrix \n",
            " [[ -1  -1  -1  -1   0  -1]\n",
            " [ -1  -1  -1   0  -1 100]\n",
            " [ -1  -1  -1   0  -1  -1]\n",
            " [ -1   0   0  -1  -1  -1]\n",
            " [  0  -1  -1  -1  -1 100]\n",
            " [ -1  -1  -1  -1   0 100]]\n",
            "Current State 0\n",
            "Random choice of Action from [4] is 4\n",
            "q_matrix  \n",
            " [[0. 0. 0. 0. 0. 0.]\n",
            " [0. 0. 0. 0. 0. 0.]\n",
            " [0. 0. 0. 0. 0. 0.]\n",
            " [0. 0. 0. 0. 0. 0.]\n",
            " [0. 0. 0. 0. 0. 0.]\n",
            " [0. 0. 0. 0. 0. 0.]]\n",
            "********************************************************************\n",
            "Old State:0 New State: 4\n",
            "reward_matrix \n",
            " [[ -1  -1  -1  -1   0  -1]\n",
            " [ -1  -1  -1   0  -1 100]\n",
            " [ -1  -1  -1   0  -1  -1]\n",
            " [ -1   0   0  -1  -1  -1]\n",
            " [  0  -1  -1  -1  -1 100]\n",
            " [ -1  -1  -1  -1   0 100]]\n",
            "Current State 4\n",
            "Random choice of Action from [0, 5] is 5\n",
            "q_matrix  \n",
            " [[  0.   0.   0.   0.   0.   0.]\n",
            " [  0.   0.   0.   0.   0.   0.]\n",
            " [  0.   0.   0.   0.   0.   0.]\n",
            " [  0.   0.   0.   0.   0.   0.]\n",
            " [  0.   0.   0.   0.   0. 100.]\n",
            " [  0.   0.   0.   0.   0.   0.]]\n",
            "********************************************************************\n",
            "Reached Goal!\n",
            "Ending Episode:  0\n",
            "Starting Episode:  1\n",
            "Initial State: 1\n",
            "reward_matrix \n",
            " [[ -1  -1  -1  -1   0  -1]\n",
            " [ -1  -1  -1   0  -1 100]\n",
            " [ -1  -1  -1   0  -1  -1]\n",
            " [ -1   0   0  -1  -1  -1]\n",
            " [  0  -1  -1  -1  -1 100]\n",
            " [ -1  -1  -1  -1   0 100]]\n",
            "Current State 1\n",
            "Random choice of Action from [3, 5] is 5\n",
            "q_matrix  \n",
            " [[  0.   0.   0.   0.   0.   0.]\n",
            " [  0.   0.   0.   0.   0. 100.]\n",
            " [  0.   0.   0.   0.   0.   0.]\n",
            " [  0.   0.   0.   0.   0.   0.]\n",
            " [  0.   0.   0.   0.   0. 100.]\n",
            " [  0.   0.   0.   0.   0.   0.]]\n",
            "********************************************************************\n",
            "Reached Goal!\n",
            "Ending Episode:  1\n",
            "Training completed!\n",
            "Final Q Table:  [[  0.   0.   0.   0.   0.   0.]\n",
            " [  0.   0.   0.   0.   0. 100.]\n",
            " [  0.   0.   0.   0.   0.   0.]\n",
            " [  0.   0.   0.   0.   0.   0.]\n",
            " [  0.   0.   0.   0.   0. 100.]\n",
            " [  0.   0.   0.   0.   0.   0.]]\n"
          ]
        }
      ]
    },
    {
      "cell_type": "markdown",
      "source": [
        "## Best Path to Goal\n",
        "\n",
        "By looking at the q_table we find that the rewards are calculated for different states and actions. For a particular state the maximum rewards are given to the action which should be taken to find the optimal path to reach the goal."
      ],
      "metadata": {
        "id": "SSugwbyfuBQi"
      }
    },
    {
      "cell_type": "code",
      "source": [
        "def optimal_path(q_table):\n",
        "    path=[]\n",
        "     # ADD CODE HERE ##"
      ],
      "metadata": {
        "id": "jao8gbZ1t7TR"
      },
      "execution_count": 10,
      "outputs": []
    },
    {
      "cell_type": "code",
      "source": [
        "Q_optimal_path, max_reward  = optimal_path(q_table)\n",
        "print(Q_optimal_path, max_reward)"
      ],
      "metadata": {
        "id": "oEeQSNpLt9Qb",
        "colab": {
          "base_uri": "https://localhost:8080/",
          "height": 192
        },
        "outputId": "0f9801de-3c4a-4754-95ab-a49f76c4f3ff"
      },
      "execution_count": 11,
      "outputs": [
        {
          "output_type": "error",
          "ename": "TypeError",
          "evalue": "ignored",
          "traceback": [
            "\u001b[0;31m---------------------------------------------------------------------------\u001b[0m",
            "\u001b[0;31mTypeError\u001b[0m                                 Traceback (most recent call last)",
            "\u001b[0;32m<ipython-input-11-4b0f0bdc4a44>\u001b[0m in \u001b[0;36m<cell line: 1>\u001b[0;34m()\u001b[0m\n\u001b[0;32m----> 1\u001b[0;31m \u001b[0mQ_optimal_path\u001b[0m\u001b[0;34m,\u001b[0m \u001b[0mmax_reward\u001b[0m  \u001b[0;34m=\u001b[0m \u001b[0moptimal_path\u001b[0m\u001b[0;34m(\u001b[0m\u001b[0mq_table\u001b[0m\u001b[0;34m)\u001b[0m\u001b[0;34m\u001b[0m\u001b[0;34m\u001b[0m\u001b[0m\n\u001b[0m\u001b[1;32m      2\u001b[0m \u001b[0mprint\u001b[0m\u001b[0;34m(\u001b[0m\u001b[0mQ_optimal_path\u001b[0m\u001b[0;34m,\u001b[0m \u001b[0mmax_reward\u001b[0m\u001b[0;34m)\u001b[0m\u001b[0;34m\u001b[0m\u001b[0;34m\u001b[0m\u001b[0m\n",
            "\u001b[0;31mTypeError\u001b[0m: cannot unpack non-iterable NoneType object"
          ]
        }
      ]
    }
  ]
}